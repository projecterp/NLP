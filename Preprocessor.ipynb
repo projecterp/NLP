{
 "cells": [
  {
   "cell_type": "code",
   "execution_count": 1,
   "metadata": {
    "collapsed": true
   },
   "outputs": [],
   "source": [
    "import re\n",
    "import pickle\n",
    "import stemmer\n",
    "import matplotlib.pyplot as plt\n",
    "from matplotlib.backends.backend_pdf import PdfPages\n",
    "\n",
    "#fp = open(\"/home/pranav/classes.txt\",\"r\")\n",
    "with open('stop_words.pickle', 'rb') as handle:\n",
    "    stop_words = pickle.load(handle)\n",
    "stemmer = stemmer.Stemmer('english')    \n",
    "#paragraphs = fp.readlines()"
   ]
  },
  {
   "cell_type": "code",
   "execution_count": 2,
   "metadata": {},
   "outputs": [],
   "source": [
    "\n",
    "def add_to_dictionary(word, dictionary, keywords):\n",
    "    if word not in stop_words:\n",
    "        keywords.add(stemmer.stemWord(word))\n",
    "    if word in dictionary:\n",
    "        dictionary[stemmer.stemWord(word)] += 1\n",
    "    else :\n",
    "        dictionary[stemmer.stemWord(word)] = 1    \n",
    "\n",
    "def process_word(word, dictionary, keywords):\n",
    "    number = re.search(\"(^[\\d]+)|($[\\d]+)\", word)\n",
    "    if number is None or len(number.group()) != len(word):\n",
    "        if re.search(\"(www\\.)|([\\S]+\\@)([\\S]+\\.[\\S]+)\", word) is None:\n",
    "            word = word.replace(\".\",\"\")   \n",
    "        add_to_dictionary(word.lower(), dictionary, keywords)        \n",
    "        \n",
    "def process_line(line, dictionary, words, keywords):\n",
    "    pattern = r'[\\w][\\S]*[\\w]'\n",
    "    word_list = re.findall(pattern, line)\n",
    "    words = words + word_list\n",
    "    for word in word_list:\n",
    "        process_word(word, dictionary, keywords)\n",
    "        \n",
    "def get_words(line):\n",
    "    pattern = r'[\\w][\\S]*[\\w]'\n",
    "    word_list = re.findall(pattern, line)\n",
    "    if word_list is None:\n",
    "        return []\n",
    "    return word_list\n",
    "\n",
    "def get_lines(para):\n",
    "    pattern = \"[\\.|\\?\\!] \"\n",
    "    splitter = re.compile(pattern)\n",
    "    return splitter.split(para);\n",
    "\n",
    "def process_paragraph(paras, dictionary, lines, words, keywords):\n",
    "    for para in paras:\n",
    "        para = para.strip()\n",
    "        para = re.sub(\"\\n\",\"\",para)\n",
    "        lines = lines + [line for line in get_lines(para) if line.strip()!=\"\"]\n",
    "    for line in lines:\n",
    "        process_line(line,dictionary, words, keywords)\n",
    "\n",
    "def perc(a1,a2):\n",
    "    return (a1/a2)*100\n",
    "\n",
    "def pie_plotter(dictionary, keywords, words):\n",
    "    labels = 'Keywords', 'Stop-words', 'Repeats'\n",
    "    sizes = [perc(len(keywords),len(words)), perc((len(dictionary) - len(keywords)),len(words)),perc((len(words) - len(dictionary)),len(words))]\n",
    "    explode = (0.1, 0.2, 0.1)\n",
    "    fig1, ax1 = plt.subplots()\n",
    "    ax1.pie(sizes, explode=explode, labels=labels, autopct='%1.1f%%',\n",
    "            shadow=True, startangle=90)\n",
    "    ax1.axis('equal')\n",
    "    plt.show()  \n",
    "\n",
    "def bar_plotter(dictionary, keywords, words):\n",
    "    labels = []\n",
    "    freq = []\n",
    "    for word in keywords:\n",
    "        if dictionary[word]>=5:\n",
    "            labels.append(word)\n",
    "            freq.append(dictionary[word])\n",
    "    plt.bar(range(len(freq)), freq)\n",
    "    plt.xticks(range(len(freq)), labels, rotation = \"vertical\")\n",
    "    plt.gcf().set_size_inches(18.5,10.5)\n",
    "    plt.show()\n",
    "    "
   ]
  },
  {
   "cell_type": "code",
   "execution_count": 4,
   "metadata": {
    "collapsed": true
   },
   "outputs": [],
   "source": [
    "#process_paragraph(paragraphs)"
   ]
  },
  {
   "cell_type": "code",
   "execution_count": 6,
   "metadata": {
    "slideshow": {
     "slide_type": "notes"
    }
   },
   "outputs": [
    {
     "data": {
      "text/plain": [
       "'\\nprint (\"\\n####################################################################################\\n\")\\nprint (\"The number of paragraphs is \", len(paragraphs),\"\\n\")\\nprint (\"The number of sentences is \", len(lines),\"\\n\")\\nprint (\"The number of words is \", len(words),\"\\n\")\\nprint (\"Total no. of words in vocabulary is \", len(dictionary), \"\\n\")\\nprint (\"Total no. of stop words in vocabulary is \", len(dictionary), \"\\n\")\\nprint (\"The number of keywords in vocabulary is \", len(keywords), \"\\n\") \\nprint (\"\\n####################################################################################\\n\")\\nplotter()\\nbar_plotter()\\nprint (\"\\n####################################################################################\\n\")\\nfor k,v in sorted(dictionary.items(), key=lambda p:p[1], reverse=True):\\n    print(k.rjust(30), \" : \", v)\\n'"
      ]
     },
     "execution_count": 6,
     "metadata": {},
     "output_type": "execute_result"
    }
   ],
   "source": [
    "'''\n",
    "print (\"\\n####################################################################################\\n\")\n",
    "print (\"The number of paragraphs is \", len(paragraphs),\"\\n\")\n",
    "print (\"The number of sentences is \", len(lines),\"\\n\")\n",
    "print (\"The number of words is \", len(words),\"\\n\")\n",
    "print (\"Total no. of words in vocabulary is \", len(dictionary), \"\\n\")\n",
    "print (\"Total no. of stop words in vocabulary is \", len(dictionary), \"\\n\")\n",
    "print (\"The number of keywords in vocabulary is \", len(keywords), \"\\n\") \n",
    "print (\"\\n####################################################################################\\n\")\n",
    "plotter()\n",
    "bar_plotter()\n",
    "print (\"\\n####################################################################################\\n\")\n",
    "for k,v in sorted(dictionary.items(), key=lambda p:p[1], reverse=True):\n",
    "    print(k.rjust(30), \" : \", v)\n",
    "'''    "
   ]
  }
 ],
 "metadata": {
  "celltoolbar": "Slideshow",
  "kernelspec": {
   "display_name": "Python 3",
   "language": "python",
   "name": "python3"
  },
  "language_info": {
   "codemirror_mode": {
    "name": "ipython",
    "version": 3
   },
   "file_extension": ".py",
   "mimetype": "text/x-python",
   "name": "python",
   "nbconvert_exporter": "python",
   "pygments_lexer": "ipython3",
   "version": "3.6.2"
  }
 },
 "nbformat": 4,
 "nbformat_minor": 2
}
